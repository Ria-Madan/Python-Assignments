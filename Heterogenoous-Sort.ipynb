{
  "nbformat": 4,
  "nbformat_minor": 0,
  "metadata": {
    "colab": {
      "provenance": [],
      "authorship_tag": "ABX9TyM6bWlkgixRkQEHlH/dKMbU",
      "include_colab_link": true
    },
    "kernelspec": {
      "name": "python3",
      "display_name": "Python 3"
    },
    "language_info": {
      "name": "python"
    }
  },
  "cells": [
    {
      "cell_type": "markdown",
      "metadata": {
        "id": "view-in-github",
        "colab_type": "text"
      },
      "source": [
        "<a href=\"https://colab.research.google.com/github/Ria-Madan/Python-Assignments/blob/main/Heterogenoous-Sort.ipynb\" target=\"_parent\"><img src=\"https://colab.research.google.com/assets/colab-badge.svg\" alt=\"Open In Colab\"/></a>"
      ]
    },
    {
      "cell_type": "markdown",
      "source": [
        "---\n",
        "1. Write a python program to sort the list of heterogeneous data. e.g. L= [\"Ram\", 1, \"Shyam\", 2, \"Aman\", 3] print(L) L.sort() print(L)\n",
        "\n",
        "---"
      ],
      "metadata": {
        "id": "PzVd0RrMPsY7"
      }
    },
    {
      "cell_type": "code",
      "execution_count": 2,
      "metadata": {
        "id": "bvenT2TQK3Ae",
        "colab": {
          "base_uri": "https://localhost:8080/"
        },
        "outputId": "a5c057cb-7b12-4765-e8ca-e35faaaf5768"
      },
      "outputs": [
        {
          "output_type": "stream",
          "name": "stdout",
          "text": [
            "['Ram', 1, 'Shyam', 2, 'Aman', 3]\n",
            "[1, 2, 3, 'Aman', 'Ram', 'Shyam']\n"
          ]
        }
      ],
      "source": [
        "def convert(num):\n",
        "  try:\n",
        "    ele = int(num)\n",
        "    return (0, ele, '')\n",
        "  except ValueError:\n",
        "    return (1, num, '')\n",
        "\n",
        "\n",
        "\n",
        "\n",
        "\n",
        "\n",
        "\n",
        "L= [\"Ram\", 1, \"Shyam\", 2, \"Aman\", 3]\n",
        "print(L) \n",
        "L.sort(key=convert)\n",
        "print(L)\n",
        "\n"
      ]
    },
    {
      "cell_type": "markdown",
      "source": [],
      "metadata": {
        "id": "Sufl3BFUK-hX"
      }
    }
  ]
}