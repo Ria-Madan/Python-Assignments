{
  "nbformat": 4,
  "nbformat_minor": 0,
  "metadata": {
    "colab": {
      "provenance": [],
      "authorship_tag": "ABX9TyMVfFwmMvYTrYkm4zPpp4tc",
      "include_colab_link": true
    },
    "kernelspec": {
      "name": "python3",
      "display_name": "Python 3"
    },
    "language_info": {
      "name": "python"
    }
  },
  "cells": [
    {
      "cell_type": "markdown",
      "metadata": {
        "id": "view-in-github",
        "colab_type": "text"
      },
      "source": [
        "<a href=\"https://colab.research.google.com/github/Ria-Madan/Python-Assignments/blob/main/Basic_Assignment.ipynb\" target=\"_parent\"><img src=\"https://colab.research.google.com/assets/colab-badge.svg\" alt=\"Open In Colab\"/></a>"
      ]
    },
    {
      "cell_type": "markdown",
      "source": [
        "---\n",
        "Q1. L is a list defined as L= [11, 12, 13, 14].\n",
        "\n",
        "(i) WAP to add 50 and 60 to L.\n",
        "(ii) WAP to remove 11 and 13from L.\n",
        "(iii) WAP to sort L in ascending order.\n",
        "(iv) WAP to sort L in descending order.\n",
        "(v) WAP to search for 13 in L.\n",
        "(vi) WAP to count the number of elements present in L.\n",
        "(vii) WAP to sum all the elements in L.\n",
        "(viii) WAP to sum all ODD numbers in L.\n",
        "(ix) WAP to sum all EVEN numbers in L.\n",
        "(x) WAP to sum all PRIME numbers in L.\n",
        "(xi) WAP to clear all the elements in L.\n",
        "(xii) WAP to delete L.\n",
        "\n",
        "---"
      ],
      "metadata": {
        "id": "lN7B2svJAzpC"
      }
    },
    {
      "cell_type": "code",
      "execution_count": null,
      "metadata": {
        "colab": {
          "base_uri": "https://localhost:8080/",
          "height": 443
        },
        "id": "0L_CRlZ99htx",
        "outputId": "7cc70b94-9d66-4642-96c5-1f6a7ac06e1d"
      },
      "outputs": [
        {
          "output_type": "stream",
          "name": "stdout",
          "text": [
            "List after adding 50 and 60:   [11, 12, 13, 14, 50, 60]\n",
            "List after removing 13:   [12, 13, 14, 50, 60]\n",
            "List after removing 11 and 13:   [12, 14, 50, 60]\n",
            "List in ascending order:   [12, 14, 50, 60]\n",
            "List in ascending order:     [60, 50, 14, 12]\n",
            "13 is not present\n",
            "Number of elements are 4\n",
            "Sum of elements in list 136\n",
            "Sum of even numbers:  136\n",
            "Sum of odd numbers:  0\n",
            "Sum of prime:   0\n",
            "List after clearing:   []\n"
          ]
        },
        {
          "output_type": "error",
          "ename": "NameError",
          "evalue": "ignored",
          "traceback": [
            "\u001b[0;31m---------------------------------------------------------------------------\u001b[0m",
            "\u001b[0;31mNameError\u001b[0m                                 Traceback (most recent call last)",
            "\u001b[0;32m<ipython-input-33-88da3995f272>\u001b[0m in \u001b[0;36m<cell line: 63>\u001b[0;34m()\u001b[0m\n\u001b[1;32m     61\u001b[0m \u001b[0;34m\u001b[0m\u001b[0m\n\u001b[1;32m     62\u001b[0m \u001b[0;32mdel\u001b[0m \u001b[0ml\u001b[0m\u001b[0;34m\u001b[0m\u001b[0;34m\u001b[0m\u001b[0m\n\u001b[0;32m---> 63\u001b[0;31m \u001b[0mprint\u001b[0m\u001b[0;34m(\u001b[0m\u001b[0ml\u001b[0m\u001b[0;34m)\u001b[0m\u001b[0;34m\u001b[0m\u001b[0;34m\u001b[0m\u001b[0m\n\u001b[0m\u001b[1;32m     64\u001b[0m \u001b[0;34m\u001b[0m\u001b[0m\n\u001b[1;32m     65\u001b[0m \u001b[0;34m\u001b[0m\u001b[0m\n",
            "\u001b[0;31mNameError\u001b[0m: name 'l' is not defined"
          ]
        }
      ],
      "source": [
        "\n",
        "\n",
        "l=[11,12,13,14]\n",
        "l.append(50)\n",
        "l.append(60)\n",
        "print(\"List after adding 50 and 60:  \",l)\n",
        "\n",
        "\n",
        "del l[0]\n",
        "print(\"List after removing 13:  \",l)\n",
        "del l[1]\n",
        "print(\"List after removing 11 and 13:  \",l)\n",
        "\n",
        "\n",
        "l.sort()\n",
        "print(\"List in ascending order:  \",l)\n",
        "\n",
        "l.sort(reverse=True)\n",
        "print(\"List in ascending order:    \",l)\n",
        "\n",
        "\n",
        "\n",
        "if 13 in l:\n",
        "  print(\"13 is present\")\n",
        "else:\n",
        "  print(\"13 is not present\")\n",
        "\n",
        "\n",
        "print(\"Number of elements are\", len(l))\n",
        "\n",
        "\n",
        "print(\"Sum of elements in list\", sum(l))\n",
        "\n",
        "\n",
        "so=0;\n",
        "se=0;\n",
        "for i in l:\n",
        "  if(i%2==0):\n",
        "    se=se+i;\n",
        "print(\"Sum of even numbers: \", se)\n",
        "\n",
        "\n",
        "for i in l:\n",
        "  if(i%2!=0):\n",
        "    so=so+i;\n",
        "print(\"Sum of odd numbers: \", so)\n",
        "\n",
        "def isPrime(a):\n",
        "  for i in range(2, a//2 +1):\n",
        "    if(a%i==0):\n",
        "     return 0\n",
        "  return 1\n",
        "\n",
        "s=0;\n",
        "for i in l:\n",
        "  if(isPrime(i)==1):\n",
        "    s=s+i;\n",
        "\n",
        "print(\"Sum of prime:  \",s)\n",
        "\n",
        "l.clear()\n",
        "print(\"List after clearing:  \",l)\n",
        "\n",
        "del l\n",
        "print(l)\n",
        "\n",
        "\n",
        "\n",
        "\n",
        "\n",
        "\n",
        "\n",
        "\n",
        "\n",
        "\n",
        "\n"
      ]
    },
    {
      "cell_type": "markdown",
      "source": [
        "---\n",
        "Q2. D is a dictionary defined as D= {1:5.6, 2:7.8, 3:6.6, 4:8.7, 5:7.7).\n",
        "(i) WAP to add new entry in D; key-8 and value is 8.8\n",
        "(ii) WAP to remove key=2.\n",
        "(iii) WAP to check weather 6 key is present in D.\n",
        "(iv) WAP to count the number of elements present in D.\n",
        "(v) WAP to add all the values present D.\n",
        "(vi) WAP to update the value of 3 to 7.1.\n",
        "(vii) WAP to clear the dictionary\n",
        "\n",
        "---"
      ],
      "metadata": {
        "id": "5PngB6vbva8N"
      }
    },
    {
      "cell_type": "code",
      "source": [
        "D= {1:5.6, 2:7.8, 3:6.6, 4:8.7, 5:7.7}\n",
        "\n",
        "D[8]=8.8\n",
        "print(\"After adding 8->8.8\", D)\n",
        "\n",
        "del D[2]\n",
        "print(\"After deleting 2\", D)\n",
        "\n",
        "if 6 in D:\n",
        "  print(\"6 is present in D\")\n",
        "else:\n",
        "  print(\"6 is not present in D\") \n",
        "\n",
        "print(\"Number of elements in D :\", len(D))\n",
        "print(\"Sum of elements in D :\", sum(D))\n",
        "\n",
        "D[3]=7.1\n",
        "print(\"New elements in D :\", D)\n",
        "\n",
        "D.clear()\n",
        "print(\"Empty Dictionary:   \", D)\n"
      ],
      "metadata": {
        "colab": {
          "base_uri": "https://localhost:8080/"
        },
        "id": "omFpxNUXxPQH",
        "outputId": "3b4f36ed-5263-45a8-f4bc-eaa7ad1e15b5"
      },
      "execution_count": null,
      "outputs": [
        {
          "output_type": "stream",
          "name": "stdout",
          "text": [
            "After adding 8->8.8 {1: 5.6, 2: 7.8, 3: 6.6, 4: 8.7, 5: 7.7, 8: 8.8}\n",
            "After deleting 2 {1: 5.6, 3: 6.6, 4: 8.7, 5: 7.7, 8: 8.8}\n",
            "6 is not present in D\n",
            "Number of elements in D : 5\n",
            "Sum of elements in D : 21\n",
            "New elements in D : {1: 5.6, 3: 7.1, 4: 8.7, 5: 7.7, 8: 8.8}\n",
            "Empty Dictionary {}\n"
          ]
        }
      ]
    },
    {
      "cell_type": "markdown",
      "source": [
        "---\n",
        "Q3. S1 is a set defined as S1= [10, 20, 30, 40, 50, 60]. S2 is a set defined as S2= [40, 50, 60, 70, 80, 90].\n",
        "(i) WAP to add 55 and 66 in Set S1.\n",
        "(ii) WAP to remove 10 and 30 from Set S1.\n",
        "(iii) WAP to check whether 40 is present in S1.\n",
        "(iv) WAP to find the union between S1 and S2.\n",
        "(v) WAP to find the intersection between $1 and $2.\n",
        "(vi) WAP to find the $1 - $2.\n",
        "\n",
        "---\n",
        "\n"
      ],
      "metadata": {
        "id": "yNB4sHstFV2o"
      }
    },
    {
      "cell_type": "code",
      "source": [
        "S1= set([10, 20, 30, 40, 50, 60])\n",
        "S2= set([40, 50, 60, 70, 80, 90])\n",
        "\n",
        "S1.add(55)\n",
        "S1.add(66)\n",
        "print(\"S1: \",S1)\n",
        "print(\"S2: \",S2)\n",
        "print(\"New S1: \",S1)\n",
        "\n",
        "S1.remove(10)\n",
        "S1.remove(30)\n",
        "\n",
        "if 40 in S1:\n",
        "  print(\"40 is present in S1\")\n",
        "else:\n",
        "  print(\"Not present \")\n",
        "\n",
        "print(\"Union is :\", S1.union(S2))\n",
        "print(\"Intersection is :\", S1.intersection(S2))\n",
        "print(\"S1-S2 is :\", S1-S2)"
      ],
      "metadata": {
        "colab": {
          "base_uri": "https://localhost:8080/"
        },
        "id": "KVybxyHJFVCl",
        "outputId": "1611e7c5-34cc-4042-f134-049d3c241b74"
      },
      "execution_count": null,
      "outputs": [
        {
          "output_type": "stream",
          "name": "stdout",
          "text": [
            "S1:  {66, 40, 10, 50, 20, 55, 60, 30}\n",
            "S2:  {70, 40, 80, 50, 90, 60}\n",
            "New S1:  {66, 40, 10, 50, 20, 55, 60, 30}\n",
            "40 is present in S1\n",
            "Union is : {66, 70, 40, 80, 50, 20, 55, 90, 60}\n",
            "Intersection is : {40, 50, 60}\n",
            "S1-S2 is : {66, 20, 55}\n"
          ]
        }
      ]
    },
    {
      "cell_type": "markdown",
      "source": [
        "---\n",
        "Q4. Write the following program. (i) WAP to print 100 random strings whose length between 6 and 8. (ii) WAP to print all prime numbers between 600 and 800. (iii) WAP to print all numbers between 100 and 1000 that are divisible by 7\n",
        "\n",
        "\n",
        "\n",
        "\n",
        "\n",
        "\n",
        "---"
      ],
      "metadata": {
        "id": "0F97-ykzIZYi"
      }
    },
    {
      "cell_type": "code",
      "source": [
        "import random as r\n",
        "import string as s\n",
        "\n",
        "\n",
        "for i in range(100):\n",
        "  l=r.randint(6,8)\n",
        "  st=r.sample(s.ascii_letters,l)\n",
        "  st2=\"\".join(st)\n",
        "  print(st2)"
      ],
      "metadata": {
        "colab": {
          "base_uri": "https://localhost:8080/"
        },
        "id": "wSnUZf11I3-X",
        "outputId": "137095f2-7e2d-40ab-e3a9-fd298d2a5c43"
      },
      "execution_count": null,
      "outputs": [
        {
          "output_type": "stream",
          "name": "stdout",
          "text": [
            "zqxvOTuc\n",
            "rEdSiUWp\n",
            "YkzZpFX\n",
            "yjRKbLe\n",
            "mRXBPfn\n",
            "yOKhpsW\n",
            "NEaGQiJ\n",
            "bJXcCDHs\n",
            "rtVDbK\n",
            "HmFEsOc\n",
            "qedNlK\n",
            "GTzMdZSO\n",
            "tFyIaou\n",
            "zrFBKeAU\n",
            "hzIjHU\n",
            "HBResNFf\n",
            "SguBZwp\n",
            "xcgWkBK\n",
            "CoYiPjTe\n",
            "FIABQimZ\n",
            "mlNVcEG\n",
            "NQhIqj\n",
            "xZbArlf\n",
            "BLwqHR\n",
            "BkGymSj\n",
            "hVHEXtd\n",
            "XGzMUdf\n",
            "zVRoBchk\n",
            "GZDjfu\n",
            "KnBYskeq\n",
            "cyYINsK\n",
            "vUXuSTZ\n",
            "MPWYjQ\n",
            "QpsWyt\n",
            "PphWas\n",
            "xayNho\n",
            "QKGjhB\n",
            "auCsorFH\n",
            "COAxoSL\n",
            "hgieYZv\n",
            "xtCnPTe\n",
            "AntOYi\n",
            "TFOMCVsa\n",
            "YEAwurLV\n",
            "yMbdlVnW\n",
            "eovrhtx\n",
            "ylsIoTcB\n",
            "jyzXmlt\n",
            "prSBRv\n",
            "yFPlQsM\n",
            "sIuJgHp\n",
            "mWnsGBJ\n",
            "wobRvKmx\n",
            "LgmChRE\n",
            "NEpkCFsb\n",
            "YQnNdhK\n",
            "qdANJI\n",
            "FaoUBK\n",
            "VcaHpFN\n",
            "quiLxn\n",
            "RtAgUn\n",
            "AxtJsDK\n",
            "sEgFTf\n",
            "pVfCIB\n",
            "UmIJLWw\n",
            "kdhpXF\n",
            "jPfJYq\n",
            "MDjKNQ\n",
            "DMuXRv\n",
            "bOKdEQ\n",
            "FeqtKogV\n",
            "ejqDtJ\n",
            "fnBYJN\n",
            "adCFEwmj\n",
            "HOBUupL\n",
            "EnLjbBeF\n",
            "EskuJj\n",
            "HrRmOwh\n",
            "oTwGvnrg\n",
            "mEdgohv\n",
            "bqUFiG\n",
            "GovChmM\n",
            "RfdVEQI\n",
            "VZvgRTE\n",
            "DAmYWE\n",
            "uQSJed\n",
            "tHqocRy\n",
            "LzuDil\n",
            "PKXduQ\n",
            "yvDHjJmM\n",
            "SjMFDh\n",
            "PxJwzXY\n",
            "GwVhSzBU\n",
            "zwBpJeU\n",
            "jCsvKM\n",
            "mhpMqIr\n",
            "JZcHtQ\n",
            "NrfhmLe\n",
            "cktRGb\n",
            "dDYChqV\n"
          ]
        }
      ]
    },
    {
      "cell_type": "code",
      "source": [
        "def isPrime(a):\n",
        "  for i in range(2,a//2 +1):\n",
        "    if(a%i==0):\n",
        "      return 0\n",
        "  return 1\n",
        "\n",
        "for i in range(600,800):\n",
        "  if(isPrime(i)==1):\n",
        "    print(i)"
      ],
      "metadata": {
        "colab": {
          "base_uri": "https://localhost:8080/"
        },
        "id": "1f5Ge1VEJjWc",
        "outputId": "451ae990-80a1-4756-97d8-07cbf263d01a"
      },
      "execution_count": null,
      "outputs": [
        {
          "output_type": "stream",
          "name": "stdout",
          "text": [
            "601\n",
            "607\n",
            "613\n",
            "617\n",
            "619\n",
            "631\n",
            "641\n",
            "643\n",
            "647\n",
            "653\n",
            "659\n",
            "661\n",
            "673\n",
            "677\n",
            "683\n",
            "691\n",
            "701\n",
            "709\n",
            "719\n",
            "727\n",
            "733\n",
            "739\n",
            "743\n",
            "751\n",
            "757\n",
            "761\n",
            "769\n",
            "773\n",
            "787\n",
            "797\n"
          ]
        }
      ]
    },
    {
      "cell_type": "code",
      "source": [
        "for i in range(100,1000):\n",
        "  if(i%7==0):\n",
        "    print(i)"
      ],
      "metadata": {
        "colab": {
          "base_uri": "https://localhost:8080/"
        },
        "id": "cljiVToIKMHF",
        "outputId": "f0155d19-cc48-4c00-a070-8d5457839440"
      },
      "execution_count": null,
      "outputs": [
        {
          "output_type": "stream",
          "name": "stdout",
          "text": [
            "105\n",
            "112\n",
            "119\n",
            "126\n",
            "133\n",
            "140\n",
            "147\n",
            "154\n",
            "161\n",
            "168\n",
            "175\n",
            "182\n",
            "189\n",
            "196\n",
            "203\n",
            "210\n",
            "217\n",
            "224\n",
            "231\n",
            "238\n",
            "245\n",
            "252\n",
            "259\n",
            "266\n",
            "273\n",
            "280\n",
            "287\n",
            "294\n",
            "301\n",
            "308\n",
            "315\n",
            "322\n",
            "329\n",
            "336\n",
            "343\n",
            "350\n",
            "357\n",
            "364\n",
            "371\n",
            "378\n",
            "385\n",
            "392\n",
            "399\n",
            "406\n",
            "413\n",
            "420\n",
            "427\n",
            "434\n",
            "441\n",
            "448\n",
            "455\n",
            "462\n",
            "469\n",
            "476\n",
            "483\n",
            "490\n",
            "497\n",
            "504\n",
            "511\n",
            "518\n",
            "525\n",
            "532\n",
            "539\n",
            "546\n",
            "553\n",
            "560\n",
            "567\n",
            "574\n",
            "581\n",
            "588\n",
            "595\n",
            "602\n",
            "609\n",
            "616\n",
            "623\n",
            "630\n",
            "637\n",
            "644\n",
            "651\n",
            "658\n",
            "665\n",
            "672\n",
            "679\n",
            "686\n",
            "693\n",
            "700\n",
            "707\n",
            "714\n",
            "721\n",
            "728\n",
            "735\n",
            "742\n",
            "749\n",
            "756\n",
            "763\n",
            "770\n",
            "777\n",
            "784\n",
            "791\n",
            "798\n",
            "805\n",
            "812\n",
            "819\n",
            "826\n",
            "833\n",
            "840\n",
            "847\n",
            "854\n",
            "861\n",
            "868\n",
            "875\n",
            "882\n",
            "889\n",
            "896\n",
            "903\n",
            "910\n",
            "917\n",
            "924\n",
            "931\n",
            "938\n",
            "945\n",
            "952\n",
            "959\n",
            "966\n",
            "973\n",
            "980\n",
            "987\n",
            "994\n"
          ]
        }
      ]
    },
    {
      "cell_type": "markdown",
      "source": [
        "---\n",
        "Q5. WAP to create two lists of 10 random numbers between 10 and 30; Find\n",
        "(i) Common numbers in the two lists (ii) Unique numbers in both the list\n",
        "(iii) Minimum in both the list\n",
        "(iv) Maximum in both the list\n",
        "(v) Sum of both the lists\n",
        "\n",
        "\n",
        "\n",
        "\n",
        "\n",
        "---"
      ],
      "metadata": {
        "id": "3P2KWIfcNfP6"
      }
    },
    {
      "cell_type": "code",
      "source": [
        "import random as r\n",
        "\n",
        "\n",
        "l1=r.sample(range(10,30),10)\n",
        "l2=r.sample(range(10,30),10)\n",
        "\n",
        "print(l1)\n",
        "print(l2)\n",
        "\n",
        "lc=set(l1).intersection(set(l2))\n",
        "print(lc)\n",
        "\n",
        "ld=set(l1).difference(set(l2))\n",
        "print(ld)\n",
        "\n",
        "\n",
        "print(\"Min of l1: \", min(l1))\n",
        "print(\"Min of l2: \", min(l2))\n",
        "print(\"Max of l1: \", max(l1))\n",
        "print(\"Max of l2: \", max(l2))\n",
        "print(\"Sum of l1: \", sum(l1))\n",
        "print(\"Sum of l2: \", sum(l2))\n",
        "\n",
        "\n",
        "\n",
        "\n"
      ],
      "metadata": {
        "colab": {
          "base_uri": "https://localhost:8080/"
        },
        "id": "Nt3NW9KBKnsX",
        "outputId": "1faaa8e4-d2ef-4e3b-88f5-26d9e9b115bb"
      },
      "execution_count": null,
      "outputs": [
        {
          "output_type": "stream",
          "name": "stdout",
          "text": [
            "[10, 29, 17, 18, 13, 19, 28, 15, 26, 14]\n",
            "[25, 17, 15, 16, 28, 19, 11, 26, 22, 12]\n",
            "{15, 17, 19, 26, 28}\n",
            "{10, 13, 14, 18, 29}\n",
            "Min of l1:  10\n",
            "Min of l2:  11\n",
            "Max of l1:  29\n",
            "Max of l2:  28\n",
            "Sum of l1:  189\n",
            "Sum of l2:  191\n"
          ]
        }
      ]
    },
    {
      "cell_type": "markdown",
      "source": [
        "---\n",
        "Q6. WAP to create a list of 100 random numbers between 100 and 900. Count and print the:\n",
        "(i) All odd numbers\n",
        "(ii) All even numbers\n",
        "(iii) All prime numbers\n",
        "\n",
        "---"
      ],
      "metadata": {
        "id": "ykUM7itxM0TD"
      }
    },
    {
      "cell_type": "code",
      "source": [
        "import random as r\n",
        "\n",
        "def isPrime(n):\n",
        "  for i in range(2,n//2 +1):\n",
        "    if(n%i==0):\n",
        "      return 0\n",
        "  return 1\n",
        "\n",
        "def isOdd(n):\n",
        "  if(n%2!=0):\n",
        "    return 1\n",
        "  return 0\n",
        "\n",
        "l=r.sample(range(100,900),100)\n",
        "print(\"Odd numbers\")\n",
        "for i in l:\n",
        "  if(isOdd(i)==1):\n",
        "    print(i)\n",
        "\n",
        "print(\"Even Numbers\")\n",
        "for i in l:\n",
        "  if(isOdd(i)==0):\n",
        "    print(i)\n",
        "\n",
        "\n",
        "print(\"prime numbers\")\n",
        "for i in l:\n",
        "  if(isPrime(i)):\n",
        "    print(i)\n",
        "\n"
      ],
      "metadata": {
        "colab": {
          "base_uri": "https://localhost:8080/"
        },
        "id": "2g7ihQZsM-Eh",
        "outputId": "37fabeba-c9fb-4a0c-f3d4-23dcf68e8013"
      },
      "execution_count": null,
      "outputs": [
        {
          "output_type": "stream",
          "name": "stdout",
          "text": [
            "Odd numbers\n",
            "225\n",
            "699\n",
            "345\n",
            "427\n",
            "591\n",
            "243\n",
            "545\n",
            "211\n",
            "111\n",
            "571\n",
            "255\n",
            "115\n",
            "577\n",
            "461\n",
            "575\n",
            "895\n",
            "747\n",
            "329\n",
            "823\n",
            "447\n",
            "675\n",
            "643\n",
            "395\n",
            "815\n",
            "217\n",
            "109\n",
            "349\n",
            "299\n",
            "147\n",
            "783\n",
            "369\n",
            "373\n",
            "681\n",
            "247\n",
            "207\n",
            "167\n",
            "517\n",
            "629\n",
            "509\n",
            "429\n",
            "231\n",
            "727\n",
            "669\n",
            "101\n",
            "827\n",
            "321\n",
            "479\n",
            "181\n",
            "883\n",
            "189\n",
            "365\n",
            "153\n",
            "Even Numbers\n",
            "582\n",
            "604\n",
            "642\n",
            "826\n",
            "612\n",
            "630\n",
            "244\n",
            "528\n",
            "778\n",
            "844\n",
            "510\n",
            "664\n",
            "762\n",
            "368\n",
            "874\n",
            "428\n",
            "226\n",
            "464\n",
            "680\n",
            "206\n",
            "172\n",
            "648\n",
            "318\n",
            "158\n",
            "168\n",
            "122\n",
            "316\n",
            "544\n",
            "224\n",
            "720\n",
            "322\n",
            "380\n",
            "620\n",
            "192\n",
            "646\n",
            "866\n",
            "324\n",
            "340\n",
            "134\n",
            "214\n",
            "424\n",
            "722\n",
            "830\n",
            "232\n",
            "662\n",
            "774\n",
            "102\n",
            "632\n",
            "prime numbers\n",
            "211\n",
            "571\n",
            "577\n",
            "461\n",
            "823\n",
            "643\n",
            "109\n",
            "349\n",
            "373\n",
            "167\n",
            "509\n",
            "727\n",
            "101\n",
            "827\n",
            "479\n",
            "181\n",
            "883\n"
          ]
        }
      ]
    },
    {
      "cell_type": "markdown",
      "source": [
        "---\n",
        "Q7. D is a dictionary defined as D={1:\"One\".2: \"Two\",3:\"Three\",4:\"Four\", 5:\"Five\"}. WAP to read all the keys and values from dictionary and write to the file in the given below format. Keyl, Valuel Key2, Value2 Key3, Value3\n",
        "\n",
        "---"
      ],
      "metadata": {
        "id": "hu86lEw5o2Tu"
      }
    },
    {
      "cell_type": "code",
      "source": [
        "d={1:\"One\",2: \"Two\",3:\"Three\",4:\"Four\", 5:\"Five\"}\n",
        "\n",
        "f=open('file.txt','w')\n",
        "\n",
        "for i in range(1,len(d)+1):\n",
        " #print(str(str(i)+\"  \"+ str(d[i])))\n",
        " f.write(str(str(i)+\"  \"+ str(d[i]))+ \"/n\")\n",
        "f.close()\n",
        "\n",
        "\n"
      ],
      "metadata": {
        "id": "fpqpavHSpKsM"
      },
      "execution_count": null,
      "outputs": []
    },
    {
      "cell_type": "markdown",
      "source": [
        "---\n",
        "Q8. L is a list defined as L=(\"One\",\"Two\",\"Three\", \"Four\",\"Five\"}. WAP to count the length of reach element from a list and write to the file in the given below format: One, 3 Two, 3 Four, 4\n",
        "\n",
        "---"
      ],
      "metadata": {
        "id": "kk1L9PskqvQa"
      }
    },
    {
      "cell_type": "code",
      "source": [
        "f2=open('file2.txt','w')\n",
        "L={\"One\",\"Two\",\"Three\", \"Four\",\"Five\"}\n",
        "\n",
        "for i in L:\n",
        "   f2.write(str(i)+\" \"+str(len(i)))\n",
        "   print(str(i)+\" \"+str(len(i)),\"   written\")\n",
        "\n",
        "f2.close()"
      ],
      "metadata": {
        "colab": {
          "base_uri": "https://localhost:8080/"
        },
        "id": "P6mfBzbFqvug",
        "outputId": "92f82104-6ec7-44cf-dbe5-d5865893b4e9"
      },
      "execution_count": null,
      "outputs": [
        {
          "output_type": "stream",
          "name": "stdout",
          "text": [
            "Five 4    written\n",
            "One 3    written\n",
            "Four 4    written\n",
            "Three 5    written\n",
            "Two 3    written\n"
          ]
        }
      ]
    },
    {
      "cell_type": "markdown",
      "source": [
        "---\n",
        "Q9. Write to the file 100 random strings whose length between 10 and 15\n",
        "\n",
        "---"
      ],
      "metadata": {
        "id": "ZVjaGfp55hWM"
      }
    },
    {
      "cell_type": "code",
      "source": [
        "import random as r\n",
        "import string as s\n",
        "\n",
        "f3=open('randomstrings','w');\n",
        "\n",
        "for i in range(100):\n",
        "  l=r.randint(10,15)\n",
        "  st=\"\".join(r.sample(s.ascii_letters,l))\n",
        "  f3.write(st+\"/n\")\n",
        "\n",
        "\n",
        "f3.close()\n",
        "\n",
        "\n",
        "\n",
        "\n",
        "\n"
      ],
      "metadata": {
        "id": "vIJeK-Fr6Gdi"
      },
      "execution_count": null,
      "outputs": []
    },
    {
      "cell_type": "markdown",
      "source": [
        "\n",
        "---\n",
        "Q10. Write to the file all prime numbers between 600 and 800\n",
        "\n",
        "---\n"
      ],
      "metadata": {
        "id": "_xC1-psH9_LI"
      }
    },
    {
      "cell_type": "code",
      "source": [
        "def isPrime(n):\n",
        "  for i in range(2,n//2 +1):\n",
        "    if(n%i==0):\n",
        "      return 0\n",
        "  return 1 \n",
        "\n",
        "\n",
        "f4=open('pnumber','w')\n",
        "\n",
        "for i in range(600,800):\n",
        "  if (isPrime(i)):\n",
        "    f4.write(str(i)+\"\\n\")\n",
        "\n"
      ],
      "metadata": {
        "id": "eU2yJuYU-DEC"
      },
      "execution_count": null,
      "outputs": []
    },
    {
      "cell_type": "markdown",
      "source": [
        "\n",
        "---\n",
        "Q11. WAP to calculate the time taken by a program\n",
        "\n",
        "---\n"
      ],
      "metadata": {
        "id": "hQNfVecLBCUW"
      }
    },
    {
      "cell_type": "code",
      "source": [
        "import time as t\n",
        "\n",
        "t1=t.time()\n",
        "def isPrime(a):\n",
        "  for i in range(2,a//2 +1):\n",
        "    if(a%i==0):\n",
        "      return 0\n",
        "  return 1\n",
        "s=0\n",
        "for i in range(600,800):\n",
        "  if(isPrime(i)==1):\n",
        "    s=s+1\n",
        "\n",
        "t2=t.time()\n",
        "\n",
        "\n",
        "\n",
        "print(\"Time taken by this porg is \",t2-t1)\n",
        "\n"
      ],
      "metadata": {
        "colab": {
          "base_uri": "https://localhost:8080/"
        },
        "id": "k8Q3En7zBCrT",
        "outputId": "41c56d17-cdc6-4558-a2b6-30b51023cba6"
      },
      "execution_count": null,
      "outputs": [
        {
          "output_type": "stream",
          "name": "stdout",
          "text": [
            "Time taken by this porg is  0.00139617919921875\n"
          ]
        }
      ]
    },
    {
      "cell_type": "markdown",
      "source": [
        "\n",
        "---\n",
        "![image.png](data:image/png;base64,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)\n",
        "\n",
        "---"
      ],
      "metadata": {
        "id": "FKJJfsZVEzuo"
      }
    },
    {
      "cell_type": "code",
      "source": [
        "import time as t\n",
        "import random as r\n",
        "t1=t.time()\n",
        "l=[]\n",
        "for i in range(5000,30000,5000):\n",
        "  for j in range(i):\n",
        "    l.append(r.randint(1,100))\n",
        "    t2=t.time()\n",
        "  print(i,\" Elements:\",t2-t1)\n",
        "\n",
        "\n"
      ],
      "metadata": {
        "id": "HdDc9bTfE-j7",
        "colab": {
          "base_uri": "https://localhost:8080/"
        },
        "outputId": "60feeb0c-eb3e-4329-b355-5241d7fd2c21"
      },
      "execution_count": 8,
      "outputs": [
        {
          "output_type": "stream",
          "name": "stdout",
          "text": [
            "5000  Elements: 0.008705377578735352\n",
            "10000  Elements: 0.02030777931213379\n",
            "15000  Elements: 0.0356595516204834\n",
            "20000  Elements: 0.05547475814819336\n",
            "25000  Elements: 0.08026528358459473\n"
          ]
        }
      ]
    },
    {
      "cell_type": "markdown",
      "source": [
        "\n",
        "---\n",
        "Q13. WAP to create a dictionary of student marks in five subjects and you have to find the student having maximum and minimum average marks.\n",
        "\n",
        "---\n"
      ],
      "metadata": {
        "id": "jpg2kncrEWrn"
      }
    },
    {
      "cell_type": "code",
      "source": [
        "import random as r\n",
        "stu=dict()\n",
        "n=int(input(\"Enter the number of students: \"))\n",
        "\n",
        "Avg=[]\n",
        "\n",
        "for i in range(n):\n",
        "  name=str(input(\"Enter student name\"))\n",
        "  for j in range(5):\n",
        "    marks=r.sample(range(0,100),5)\n",
        "    stu[name]=marks\n",
        "  Avg.append(sum(marks)/5)\n",
        "\n",
        "print(stu)\n",
        "\n",
        "print(Avg)\n",
        "\n",
        "\n",
        "\n",
        "\n",
        "\n",
        "print(\"Max avg is \",max(Avg))\n",
        "\n",
        "print(\"Max avg is \",min(Avg))\n",
        "\n",
        "\n",
        "\n"
      ],
      "metadata": {
        "id": "6AoW5C15Egnz",
        "colab": {
          "base_uri": "https://localhost:8080/"
        },
        "outputId": "023b4c9c-140e-47e1-c66c-ddfd3c7d005d"
      },
      "execution_count": 18,
      "outputs": [
        {
          "output_type": "stream",
          "name": "stdout",
          "text": [
            "Enter the number of students: 2\n",
            "Enter student nameArushi'\n",
            "Enter student nameRia\n",
            "{\"Arushi'\": [39, 19, 26, 43, 45], 'Ria': [68, 18, 91, 24, 93]}\n",
            "[34.4, 58.8]\n",
            "Max avg is  58.8\n",
            "Max avg is  34.4\n"
          ]
        }
      ]
    }
  ]
}